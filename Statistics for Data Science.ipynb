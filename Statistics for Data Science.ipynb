{
 "cells": [
  {
   "metadata": {},
   "cell_type": "markdown",
   "source": "**BASICS OF STATISTICS FOR DATA SCIENCE**",
   "id": "81684bd36fddeff4"
  },
  {
   "metadata": {},
   "cell_type": "markdown",
   "source": [
    "1. **Descriptive stats** - measure of central tendency , measure of dispersion (Summarizing the data) like histograms, pdf, cdf, probability, permutation, mean, median, mode, variance, standard deviation. Distributions (Gausian, lognormal, binomial, bernouli's, parcto or power law, standard normal, transformation and standardization, Q-Q plot)\n",
    "2. **Influential stats** - Z test, t test, ANOVA->F test, CHISQUARE, Hypothesis test{P values}, confidence intervals, Z tables etc."
   ],
   "id": "7a9cfce12078f3f9"
  },
  {
   "metadata": {},
   "cell_type": "markdown",
   "source": [
    "What is statistics?\n",
    "Statistics is the science of collecting, organizing and analyzing data. We are doing this for better decision making."
   ],
   "id": "f6d66afd1d04893f"
  },
  {
   "metadata": {},
   "cell_type": "markdown",
   "source": "What is data? Facts or pieces of info that can definitely measured. eg: Ages of student of a class {20,24,22,31,25}",
   "id": "a921a3ca4e2bd19e"
  },
  {
   "metadata": {},
   "cell_type": "markdown",
   "source": [
    "Types of stats\n",
    "1. Descriptive stats - It consist of organizing and summarizing data.\n",
    "2. Inferential stats - Technique where in we use data that we have measured from conclusions."
   ],
   "id": "fc19529b975482ee"
  },
  {
   "metadata": {},
   "cell_type": "markdown",
   "source": [
    "The marks of the students are given as a data set (90,99,89,79,89,94,83,92,71,72)\n",
    "What is the average mark of the classroom ? (Descriptive stats)\n",
    "Are the marks of the students in this classroom similar to the marks of the maths classroom in the college? (Inferential stats)\n"
   ],
   "id": "860cc5bb4f090639"
  },
  {
   "metadata": {},
   "cell_type": "markdown",
   "source": [
    "**Populations and Sample**\n",
    "1. Consider election is completed in TN\n",
    "2. How media comes up with exit poll?\n",
    "3. It is not viable to ask each and every person in the state that to whom they have voted. Here is were sampling comes into action. They take a random group of people from each district and ask them whom they have voted.\n",
    "4. Here the group of people from each district is **sample(n)** and every people who voted in the election is **population(N)**"
   ],
   "id": "efc26ae17fe5ef55"
  },
  {
   "metadata": {},
   "cell_type": "markdown",
   "source": [
    "**Sampling techniques**\n",
    "1. Simple Random Sampling - Every member of the population(N) has an equal chance of getting selected for the sample(n). eg: Election polls, feedback survey.\n",
    "2. Stratified Sampling - Where the population(N) is split into non-overlapping groups (Strata). eg: Survey based on gender, age.\n",
    "3. Systematic Sampling - (N) -> n<sup>th</sup> individual as a sample(n). No reason to choose the constraint.  eg: Mall -> survey -> 8<sup>th</sup> person I'll ask for survey.\n",
    "4. Convenience Sampling - Sample is collected based on easy accessibility and proximity to the research topic. eg: If we are taking survey for Data science, we need to have people who have expertise in data science as samples."
   ],
   "id": "735e84a57b76e7a2"
  },
  {
   "metadata": {},
   "cell_type": "markdown",
   "source": [
    "**Variables**\n",
    "1. Variable is a property that can take any value\n",
    "2. Two types of variables\n",
    "   1. Quantitative variable - Measured numerically {add, sub, multiply, divide}. eg: age, weight, height.\n",
    "   2. Qualitative / Categorical variable - Based on some characteristics we can derive categorical variable. eg: gender, IQ, blood group."
   ],
   "id": "f0905f547a366906"
  },
  {
   "metadata": {},
   "cell_type": "markdown",
   "source": [
    "**Quantitative Variable**\n",
    "1. Discrete variable - Whole number. eg: No of bank accounts, No of children\n",
    "2. Continuous variable - Any number including number, decimals, fractions. eg: Height, weight, temperature etc."
   ],
   "id": "59d012c8df3faa8c"
  },
  {
   "metadata": {},
   "cell_type": "markdown",
   "source": [
    "**Variable Measurement Scale**\n",
    "1. Nominal - categorical variables\n",
    "2. Ordinal - Order of the data matter but not the value. Eg: students mark dataset (99,97,89,90) and Rank inferred from the dataset is (1,2,4,3), here the order of the data which is Rank is much more important than the value that is what mark was secured by the student.\n",
    "3. Interval - Order matters and also the value. Natural zero is not present. eg: temperature range like Fahrenheit (70-80,80-90,100-120) here natural zero 0 doesn't make any sense as the variables has a range.\n",
    "4. Ratio - Absense of a variable is measured. eg: 0 kg means no weight, Difference between any two value is consistent, the difference between 5 kg and 6kg is same as 10kg and 11 kg."
   ],
   "id": "c114783b5afc626b"
  },
  {
   "metadata": {},
   "cell_type": "markdown",
   "source": [
    "**Frequency Distribution**\n",
    "sample dataset (rose,lilly, sunflower, rose, sunflower, lilly, lilly, rose). Here the frequency is (rose - 3, lilly - 3, sunflower - 2). The cumulative frequency is (rose - 3, lilly - 6, sunflower - 8) The frequency is added up as we go further. with the last frequency we can have the total number of variable present in the dataset.\n"
   ],
   "id": "d691fc9890be142d"
  },
  {
   "metadata": {},
   "cell_type": "markdown",
   "source": "![Bar Chart](./Bar_chart.png)",
   "id": "a4a85c11781dda78"
  },
  {
   "metadata": {},
   "cell_type": "markdown",
   "source": "![Histogram](Histogram.png)",
   "id": "ad421f31ae6d328c"
  },
  {
   "metadata": {},
   "cell_type": "markdown",
   "source": [
    "**What is PDF?**\n",
    "PDF is smoothening of histogram.\n",
    "**Kernel density estimator**"
   ],
   "id": "abf25ab217cbb56a"
  },
  {
   "metadata": {},
   "cell_type": "markdown",
   "source": "**BASICS TO INTERMEDIATE STATISTICS FOR DATA SCIENCE**",
   "id": "89152849628ed988"
  },
  {
   "metadata": {},
   "cell_type": "markdown",
   "source": [
    "1. Measure of central tendency\n",
    "2. Measure of dispersion\n",
    "3. Gaussian distribution\n",
    "4. Z score\n",
    "5. Standard normal distribution"
   ],
   "id": "6ced61b2e19ca707"
  },
  {
   "metadata": {},
   "cell_type": "markdown",
   "source": "**Arithmetic Mean for Population and Sample**",
   "id": "980e9ab6800fb6c8"
  },
  {
   "metadata": {},
   "cell_type": "markdown",
   "source": [
    "# Arithmetic Mean\n",
    "\n",
    "## 1. Introduction\n",
    "\n",
    "The arithmetic mean is a measure of central tendency that represents the average of a set of values. It is calculated differently for a **population** and a **sample**.\n",
    "\n",
    "---\n",
    "\n",
    "## 2. Population Arithmetic Mean\n",
    "\n",
    "* The arithmetic mean for a **population** is denoted by **μ (mu)**.\n",
    "* Formula:\n",
    "\n",
    "```markdown\n",
    "$$ \\mu = \\frac{\\sum X}{N} $$\n",
    "```\n",
    "\n",
    "* **Where:**\n",
    "\n",
    "  * $\\mu$ = Population mean\n",
    "  * $\\sum X$ = Sum of all values in the population\n",
    "  * $N$ = Total number of values in the population\n",
    "\n",
    "### Example:\n",
    "\n",
    "If the population values are \\[4, 8, 10, 12], then:\n",
    "\n",
    "```markdown\n",
    "$$ \\mu = \\frac{4 + 8 + 10 + 12}{4} = \\frac{34}{4} = 8.5 $$\n",
    "```\n",
    "\n",
    "---\n",
    "\n",
    "## 3. Sample Arithmetic Mean\n",
    "\n",
    "* The arithmetic mean for a **sample** is denoted by **$\\bar{X}$ (X-bar)**.\n",
    "* Formula:\n",
    "\n",
    "```markdown\n",
    "$$ \\bar{X} = \\frac{\\sum X}{n} $$\n",
    "```\n",
    "\n",
    "* **Where:**\n",
    "\n",
    "  * $\\bar{X}$ = Sample mean\n",
    "  * $\\sum X$ = Sum of all values in the sample\n",
    "  * $n$ = Total number of values in the sample\n",
    "\n",
    "### Example:\n",
    "\n",
    "If the sample values are \\[5, 7, 9], then:\n",
    "\n",
    "```markdown\n",
    "$$ \\bar{X} = \\frac{5 + 7 + 9}{3} = \\frac{21}{3} = 7 $$\n",
    "```\n",
    "\n",
    "---\n",
    "\n",
    "## 4. Key Differences\n",
    "\n",
    "| Aspect       | Population Mean (μ)      | Sample Mean ($\\bar{X}$)      |\n",
    "| ------------ | ------------------------ | ---------------------------- |\n",
    "| Formula      | $\\mu = \\frac{\\sum X}{N}$ | $\\bar{X} = \\frac{\\sum X}{n}$ |\n",
    "| Total Number | N (Entire Population)    | n (Subset or Sample)         |\n",
    "\n",
    "---\n"
   ],
   "id": "8ddb259048f23076"
  },
  {
   "metadata": {},
   "cell_type": "markdown",
   "source": [
    "## Central measure of tendency\n",
    "1. Mean\n",
    "2. Median\n",
    "3. Mode"
   ],
   "id": "bf370598b773dae3"
  },
  {
   "metadata": {},
   "cell_type": "markdown",
   "source": [
    "What is a measure of central tendency?\n",
    "It refers to the measure used to determine the centre of distribution of data."
   ],
   "id": "78085b7940f2fb26"
  },
  {
   "metadata": {},
   "cell_type": "markdown",
   "source": [
    "## Mean\n",
    "For example take an data set (1,2,2,2,3,3,3,3,3,4,4,5,5,6,6,6,6,7,8)\n",
    "* The Mean of the data set is 3.2\n",
    "* Here we now add a new element 100 to the data set.\n",
    "* The element 100 is far different from the existing elements as it is a huge number comparatively. Which we call as an **Outliers**\n",
    "* Now the mean of the data set after the addition of the new element (1,2,2,2,3,3,3,3,3,4,4,5,5,6,6,6,6,7,8,100) is 12\n",
    "* The mean value of the data set changed drastically just by adding one outlier value.\n",
    "* To avoid this and to measure central tendency more accurately we use **Median** in the cases of outliers"
   ],
   "id": "a20101255fc3e553"
  },
  {
   "metadata": {},
   "cell_type": "markdown",
   "source": "# Median\n",
   "id": "762b8aa034556244"
  },
  {
   "metadata": {},
   "cell_type": "markdown",
   "source": "",
   "id": "ae22ba3c9bc28cf4"
  }
 ],
 "metadata": {
  "kernelspec": {
   "display_name": "Python 3",
   "language": "python",
   "name": "python3"
  },
  "language_info": {
   "codemirror_mode": {
    "name": "ipython",
    "version": 2
   },
   "file_extension": ".py",
   "mimetype": "text/x-python",
   "name": "python",
   "nbconvert_exporter": "python",
   "pygments_lexer": "ipython2",
   "version": "2.7.6"
  }
 },
 "nbformat": 4,
 "nbformat_minor": 5
}
